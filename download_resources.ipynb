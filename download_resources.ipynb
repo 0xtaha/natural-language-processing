{
 "cells": [
  {
   "cell_type": "code",
   "execution_count": null,
   "metadata": {
    "collapsed": true
   },
   "outputs": [],
   "source": [
    "import download_utils"
   ]
  },
  {
   "cell_type": "markdown",
   "metadata": {},
   "source": [
    "## Example resources download"
   ]
  },
  {
   "cell_type": "code",
   "execution_count": null,
   "metadata": {
    "code_folding": [],
    "collapsed": false
   },
   "outputs": [],
   "source": [
    "download_utils.sequential_downloader(\n",
    "    \"week1\",\n",
    "    [\n",
    "        \"train.tsv\",\n",
    "        \"validation.tsv\",\n",
    "        \"test.tsv\",\n",
    "        \"text_prepare_tests.tsv\",\n",
    "    ],\n",
    "    \"readonly/week1\"\n",
    ")"
   ]
  },
  {
   "cell_type": "code",
   "execution_count": null,
   "metadata": {
    "collapsed": false
   },
   "outputs": [],
   "source": [
    "download_utils.sequential_downloader(\n",
    "    \"week2\",\n",
    "    [\n",
    "        \"train.txt\",\n",
    "        \"validation.txt\",\n",
    "        \"test.txt\",\n",
    "    ],\n",
    "    \"readonly/week2\"\n",
    ")"
   ]
  },
  {
   "cell_type": "code",
   "execution_count": null,
   "metadata": {
    "collapsed": true
   },
   "outputs": [],
   "source": []
  }
 ],
 "metadata": {
  "kernelspec": {
   "display_name": "Python 3",
   "language": "python",
   "name": "python3"
  },
  "language_info": {
   "codemirror_mode": {
    "name": "ipython",
    "version": 3
   },
   "file_extension": ".py",
   "mimetype": "text/x-python",
   "name": "python",
   "nbconvert_exporter": "python",
   "pygments_lexer": "ipython3",
   "version": "3.6.3"
  }
 },
 "nbformat": 4,
 "nbformat_minor": 2
}
